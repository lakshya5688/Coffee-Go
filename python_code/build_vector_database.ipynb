{
 "cells": [
  {
   "cell_type": "code",
   "execution_count": 1,
   "metadata": {},
   "outputs": [
    {
     "data": {
      "text/plain": [
       "True"
      ]
     },
     "execution_count": 1,
     "metadata": {},
     "output_type": "execute_result"
    }
   ],
   "source": [
    "from pinecone import Pinecone, ServerlessSpec\n",
    "import os\n",
    "from openai import OpenAI\n",
    "import pandas as pd\n",
    "from time import time\n",
    "import dotenv\n",
    "dotenv.load_dotenv()"
   ]
  },
  {
   "cell_type": "code",
   "execution_count": 2,
   "metadata": {},
   "outputs": [],
   "source": [
    "token = os.getenv(\"RUNPOD_TOKEN\")\n",
    "open_ai_base_url = os.getenv(\"RUNPOD_EMBEDDING_URL\")\n",
    "model_name = os.getenv(\"MODEL_NAME\")\n",
    "pinecone_api_key = os.getenv(\"PINECONE_API_KEY\")\n",
    "index_name = os.getenv(\"PINECONE_INDEX_NAME\")"
   ]
  },
  {
   "cell_type": "code",
   "execution_count": 3,
   "metadata": {},
   "outputs": [],
   "source": [
    "pc = Pinecone(api_key=pinecone_api_key)\n",
    "\n",
    "client = OpenAI(\n",
    "  api_key=token, \n",
    "  base_url=open_ai_base_url\n",
    ")"
   ]
  },
  {
   "cell_type": "code",
   "execution_count": null,
   "metadata": {},
   "outputs": [],
   "source": []
  },
  {
   "cell_type": "markdown",
   "metadata": {},
   "source": [
    "# Try out embeddings"
   ]
  },
  {
   "cell_type": "code",
   "execution_count": 4,
   "metadata": {},
   "outputs": [
    {
     "name": "stdout",
     "output_type": "stream",
     "text": [
      "[-0.05535165220499039, -0.056572869420051575, 0.08585154265165329, -0.06237364932894707, 0.01749393157660961, -0.011418377049267292, 0.052420731633901596, 0.052603915333747864, 0.02895810268819332, -0.02263830602169037, -0.013250201940536499, -0.04787169769406319, 0.029446590691804886, 0.031751636415719986, 0.05635915696620941, -0.009006474167108536, 0.012746450491249561, -0.054222024977207184, -0.103620246052742, -0.019554734230041504, 0.029156550765037537, 0.05199330672621727, -0.028805451467633247, -0.034804679453372955, 0.0015770869795233011, -0.006640366278588772, 0.019661590456962585, 0.03562900051474571, -0.008487456478178501, -0.07376149296760559, -0.00048514746595174074, -0.012944898568093777, 0.04658942297101021, -0.0003446598129812628, 0.051382698118686676, 0.0005123385926708579, 0.059625908732414246, -0.025065474212169647, -0.07791363447904587, -0.005609964486211538, 0.0604502335190773, -0.025019679218530655, -0.0016944382805377245, -0.016669608652591705, 0.02256198041141033, -0.042070917785167694, 0.0299350768327713, 0.045520856976509094, 0.05025307089090347, 0.017692377790808678, -0.0014969446929171681, 0.006014492828398943, -0.0161200612783432, 0.007777624297887087, 0.04121606796979904, 0.09476642310619354, 0.07821893692016602, -0.007460871245712042, 0.02189031057059765, 0.016226917505264282, 0.025355514138936996, 0.024805966764688492, -0.1370205283164978, 0.07266239821910858, 0.005701555870473385, -0.042406752705574036, 0.024683844298124313, -0.01601320505142212, -0.007582993246614933, 0.008884352631866932, 0.01830298639833927, -0.008563783019781113, -0.028179578483104706, 0.029110755771398544, 0.0030072464141994715, 0.021508680656552315, 0.0437500923871994, -0.026637790724635124, 0.040574926882982254, -0.05483263358473778, -0.011708416044712067, -0.0008019005763344467, 0.03022511675953865, 0.009197289124131203, -0.0013108999701216817, -0.03254542872309685, -0.006861711852252483, 0.06783859431743622, -0.04619252681732178, 0.03898734599351883, -0.021691864356398582, -0.009082799777388573, 0.03449937328696251, 0.05217648670077324, -0.03810196369886398, -0.037979841232299805, -0.004510869737714529, 0.03660597279667854, -0.02189031057059765, 0.3075023889541626, -0.06576252728700638, 0.028118517249822617, 0.08145516365766525, -0.04271205887198448, -0.007121220696717501, 0.046039871871471405, -0.007876848801970482, -0.009212554432451725, 0.0032762957271188498, -0.008655373938381672, 0.012990693561732769, -0.03103417158126831, 0.018043478950858116, 0.003545345040038228, 0.03962848708033562, -0.01505912933498621, 0.011044379323720932, 0.021722393110394478, 0.10935996472835541, -0.05171853303909302, 0.015463657677173615, 0.00976210180670023, -0.07205179333686829, 0.014257705770432949, 0.06441918760538101, -0.053977783769369125, 0.08847715705633163, 0.10410873591899872, -0.0025225759018212557, 0.023798462003469467, 0.008311906829476357, 0.054160963743925095, -0.05941219627857208, -0.010090303607285023, -0.01894412562251091, 0.005457312799990177, -0.028179578483104706, -0.029919812455773354, -0.02556922659277916, -0.039994850754737854, -0.013280732557177544, -0.09696461260318756, -0.012868572026491165, -0.11839696764945984, 0.01940208114683628, 0.012372452765703201, -0.012708287686109543, 0.011639722622931004, -0.013089917600154877, 0.01364709809422493, -0.023737400770187378, 0.028591739013791084, -0.042070917785167694, -0.024836497381329536, 0.010258221067488194, -0.034010887145996094, 0.03092731535434723, 0.03749135509133339, 0.019447878003120422, 0.02596612274646759, -0.01917310431599617, -0.03868204355239868, 0.013830279931426048, -0.04463547468185425, -0.059167955070734024, -0.13213565945625305, -0.0013290273491293192, 0.018241925165057182, 0.007731828838586807, 0.045398734509944916, 0.053641948848962784, 0.025187596678733826, -0.036422792822122574, 0.008792760781943798, 0.11479438096284866, -0.0026027183048427105, -0.0077509102411568165, 0.015692636370658875, -0.023416832089424133, -0.008273744024336338, 0.04457441344857216, -0.0639306977391243, -0.021172845736145973, -0.03483520820736885, 0.02343209832906723, -0.02170712873339653, 0.012807510793209076, 0.014646968804299831, -0.003388876561075449, 0.0351099818944931, -0.013608934357762337, 0.03263701871037483, 0.018470903858542442, 0.006312164478003979, -0.042009856551885605, 0.012647226452827454, 0.03950636461377144, -0.05660339817404747, 0.014311134815216064, -0.012074781581759453, 0.042467813938856125, -0.002026456641033292, -0.0017364176455885172, 0.03097311034798622, 0.06252630054950714, -0.007037261966615915, 0.03097311034798622, -0.010746708139777184, 0.0316905751824379, 0.018348783254623413, -0.022210881114006042, -0.03678915649652481, 0.10062826424837112, 0.023065732792019844, -0.012662491761147976, -0.08298168331384659, -0.027859007939696312, 0.04521555081009865, -0.042986832559108734, 0.04249834641814232, 0.009456797502934933, -0.005968697369098663, -0.09085853397846222, -0.2918708026409149, 0.06344221532344818, -0.007796706166118383, -0.03840726986527443, 0.014059258624911308, -0.053061868995428085, 0.06246523931622505, -0.0037781395949423313, 0.08908776938915253, -0.007121220696717501, 0.012738817371428013, -0.0754101350903511, 0.005064233671873808, 0.0018489985959604383, 0.01454011257737875, 0.04637570679187775, -0.010258221067488194, -0.022531449794769287, 0.013593669980764389, -0.03657544404268265, 0.004354401025921106, -0.003104562172666192, 0.02141708880662918, -0.027767417952418327, 0.0009016014519147575, -0.014349297620356083, 0.14434783160686493, 0.13506658375263214, 0.02602718397974968, 0.0035358043387532234, 0.04982564598321915, -0.06179356947541237, -0.007758542895317078, -0.17243582010269165, 0.03614801913499832, 0.06991466134786606, -0.004827622789889574, -0.1008114442229271, -0.05623703449964523, -0.009685776196420193, -0.02654620073735714, 0.012441146187484264, 0.007998970337212086, -0.04014750197529793, 0.0022840569727122784, -0.10282645374536514, -0.04094129428267479, 0.05458839237689972, -0.06924299150705338, 0.01140311174094677, 0.024256419390439987, -0.03852938860654831, 0.025065474212169647, 0.04704737663269043, 0.029675567522644997, -0.08481350541114807, -0.014318767003715038, -0.029553446918725967, -0.022363532334566116, 0.0938505083322525, -0.015165986493229866, 0.03825461491942406, -0.013257835060358047, -0.010800136253237724, -0.04771904647350311, 0.05883212015032768, -0.005407700780779123, -0.013372324407100677, 0.09885749965906143, -0.0019196001812815666, -0.013074652291834354, -0.057610902935266495, -0.031660046428442, -0.009052269160747528, 0.03501839190721512, 0.03807143494486809, 0.012731185182929039, 0.0007017226307652891, -0.021462885662913322, -0.033827707171440125, 0.045398734509944916, -0.024393806234002113, 0.047077909111976624, 0.0002542611618991941, -0.024439601227641106, 0.07803575694561005, 0.06237364932894707, -0.027507908642292023, 0.01721915602684021, -0.048634957522153854, -0.002593177603557706, 0.018165599554777145, 0.008632476441562176, -0.09629294276237488, 0.00924308504909277, -0.036941807717084885, -0.2803913652896881, 0.06139667332172394, 0.004178851377218962, 0.004396380390971899, -0.046497829258441925, 0.05977856367826462, 0.029064960777759552, 0.029400793835520744, -0.07089163362979889, 0.006014492828398943, -0.03162951394915581, 0.08072242885828018, 0.047535862773656845, 0.010555893182754517, -0.06728904694318771, 0.07650922983884811, 0.025828735902905464, -0.04115500673651695, 0.008479824289679527, -0.03431619331240654, 0.0035548857413232327, -0.004155953414738178, 0.19356286525726318, -0.06185463070869446, 0.07492165267467499, 0.014227176085114479, -0.018180865794420242, -0.0006659447681158781, -0.024424336850643158, -0.01865408755838871, -0.012807510793209076, 0.011868700385093689, -0.01778396964073181, -0.06051129102706909, 0.023172589018940926, 0.012296127155423164, -0.07003678381443024, 0.021035458892583847, 0.010998583398759365, -0.030377767980098724, -0.06942617893218994, -0.016043735668063164, -0.07510483264923096, 0.017005443572998047, 0.05672552064061165, -0.027965864166617393, -0.019722651690244675, -0.023600013926625252, -0.004785643424838781, 0.008647741749882698, 0.009380471892654896, 0.0013881800696253777, -0.001536061754450202, 0.03153792396187782, 0.015982674434781075, -0.013799750246107578, -0.026118773967027664, -0.0058618406765162945, 0.024897556751966476, -0.058068860322237015, -0.008113458752632141, -0.04692525416612625, 0.035048920661211014, 0.04573456943035126, -0.015830023214221]\n"
     ]
    }
   ],
   "source": [
    "output = client.embeddings.create(input = [\"helloo there\"],model=model_name)\n",
    "embedings = output.data[0].embedding\n",
    "print(embedings)"
   ]
  },
  {
   "cell_type": "markdown",
   "metadata": {},
   "source": [
    "# Wrangle dataset"
   ]
  },
  {
   "cell_type": "code",
   "execution_count": 5,
   "metadata": {},
   "outputs": [
    {
     "data": {
      "text/plain": [
       "384"
      ]
     },
     "execution_count": 5,
     "metadata": {},
     "output_type": "execute_result"
    }
   ],
   "source": [
    "len(embedings)"
   ]
  },
  {
   "cell_type": "code",
   "execution_count": 6,
   "metadata": {},
   "outputs": [],
   "source": [
    "df = pd.read_json(\"products/products.jsonl\", lines=True)"
   ]
  },
  {
   "cell_type": "code",
   "execution_count": 7,
   "metadata": {},
   "outputs": [
    {
     "data": {
      "text/html": [
       "<div>\n",
       "<style scoped>\n",
       "    .dataframe tbody tr th:only-of-type {\n",
       "        vertical-align: middle;\n",
       "    }\n",
       "\n",
       "    .dataframe tbody tr th {\n",
       "        vertical-align: top;\n",
       "    }\n",
       "\n",
       "    .dataframe thead th {\n",
       "        text-align: right;\n",
       "    }\n",
       "</style>\n",
       "<table border=\"1\" class=\"dataframe\">\n",
       "  <thead>\n",
       "    <tr style=\"text-align: right;\">\n",
       "      <th></th>\n",
       "      <th>name</th>\n",
       "      <th>category</th>\n",
       "      <th>description</th>\n",
       "      <th>ingredients</th>\n",
       "      <th>price</th>\n",
       "      <th>rating</th>\n",
       "      <th>image_path</th>\n",
       "    </tr>\n",
       "  </thead>\n",
       "  <tbody>\n",
       "    <tr>\n",
       "      <th>0</th>\n",
       "      <td>Cappuccino</td>\n",
       "      <td>Coffee</td>\n",
       "      <td>A rich and creamy cappuccino made with freshly...</td>\n",
       "      <td>[Espresso, Steamed Milk, Milk Foam]</td>\n",
       "      <td>375.0</td>\n",
       "      <td>4.7</td>\n",
       "      <td>cappuccino.jpg</td>\n",
       "    </tr>\n",
       "    <tr>\n",
       "      <th>1</th>\n",
       "      <td>Jumbo Savory Scone</td>\n",
       "      <td>Bakery</td>\n",
       "      <td>Deliciously flaky and buttery, this jumbo savo...</td>\n",
       "      <td>[Flour, Butter, Cheese, Herbs, Baking Powder, ...</td>\n",
       "      <td>275.0</td>\n",
       "      <td>4.3</td>\n",
       "      <td>SavoryScone.webp</td>\n",
       "    </tr>\n",
       "  </tbody>\n",
       "</table>\n",
       "</div>"
      ],
      "text/plain": [
       "                 name category  \\\n",
       "0          Cappuccino   Coffee   \n",
       "1  Jumbo Savory Scone   Bakery   \n",
       "\n",
       "                                         description  \\\n",
       "0  A rich and creamy cappuccino made with freshly...   \n",
       "1  Deliciously flaky and buttery, this jumbo savo...   \n",
       "\n",
       "                                         ingredients  price  rating  \\\n",
       "0                [Espresso, Steamed Milk, Milk Foam]  375.0     4.7   \n",
       "1  [Flour, Butter, Cheese, Herbs, Baking Powder, ...  275.0     4.3   \n",
       "\n",
       "         image_path  \n",
       "0    cappuccino.jpg  \n",
       "1  SavoryScone.webp  "
      ]
     },
     "execution_count": 7,
     "metadata": {},
     "output_type": "execute_result"
    }
   ],
   "source": [
    "df.head(2)"
   ]
  },
  {
   "cell_type": "code",
   "execution_count": 8,
   "metadata": {},
   "outputs": [],
   "source": [
    "df['text'] = df['name'] + ' : ' + df[\"description\"]+\\\n",
    "    \" -- Ingredients: \" + df[\"ingredients\"].astype(str)+\\\n",
    "    \" -- Price: \"+ df[\"price\"].astype(str)+\\\n",
    "    \" -- rating: \" + df[\"rating\"].astype(str)"
   ]
  },
  {
   "cell_type": "code",
   "execution_count": 9,
   "metadata": {},
   "outputs": [
    {
     "data": {
      "text/plain": [
       "0    Cappuccino : A rich and creamy cappuccino made...\n",
       "1    Jumbo Savory Scone : Deliciously flaky and but...\n",
       "Name: text, dtype: object"
      ]
     },
     "execution_count": 9,
     "metadata": {},
     "output_type": "execute_result"
    }
   ],
   "source": [
    "df['text'].head(2)"
   ]
  },
  {
   "cell_type": "code",
   "execution_count": 10,
   "metadata": {},
   "outputs": [],
   "source": [
    "texts = df[\"text\"].tolist()"
   ]
  },
  {
   "cell_type": "code",
   "execution_count": 11,
   "metadata": {},
   "outputs": [],
   "source": [
    "with open(\"products/Misty_Brews_about_us.txt\") as f:\n",
    "    Misty_Brews_about_section = f.read()\n",
    "\n",
    "Misty_Brews_about_section = \"Coffee shop Misty Brews about section: \" + Misty_Brews_about_section\n",
    "texts.append(Misty_Brews_about_section)"
   ]
  },
  {
   "cell_type": "code",
   "execution_count": 12,
   "metadata": {},
   "outputs": [
    {
     "data": {
      "text/plain": [
       "[\"Cappuccino : A rich and creamy cappuccino made with freshly brewed espresso, steamed milk, and a frothy milk cap. This delightful drink offers a perfect balance of bold coffee flavor and smooth milk, making it an ideal companion for relaxing mornings or lively conversations. -- Ingredients: ['Espresso', 'Steamed Milk', 'Milk Foam'] -- Price: 375.0 -- rating: 4.7\",\n",
       " \"Jumbo Savory Scone : Deliciously flaky and buttery, this jumbo savory scone is filled with herbs and cheese, creating a mouthwatering experience. Perfect for a hearty snack or a light lunch, it pairs beautifully with your favorite coffee or tea. -- Ingredients: ['Flour', 'Butter', 'Cheese', 'Herbs', 'Baking Powder', 'Salt'] -- Price: 275.0 -- rating: 4.3\",\n",
       " \"Latte : Smooth and creamy, our latte combines rich espresso with velvety steamed milk, creating a perfect balance of flavor and texture. Enjoy it as a comforting treat any time of day, whether you're starting your morning or taking a midday break. -- Ingredients: ['Espresso', 'Steamed Milk', 'Milk Foam'] -- Price: 399.0 -- rating: 4.8\",\n",
       " \"Chocolate Chip Biscotti : Crunchy and delightful, this chocolate chip biscotti is perfect for dipping in your coffee or enjoying on its own. Each bite offers a satisfying crunch and a burst of rich chocolate, making it a favorite for any biscotti lover. -- Ingredients: ['Flour', 'Sugar', 'Chocolate Chips', 'Eggs', 'Almonds', 'Baking Powder'] -- Price: 219.0 -- rating: 4.6\",\n",
       " \"Espresso shot : A bold shot of rich espresso, our espresso is crafted from the finest beans to deliver a robust flavor in every sip. Perfect for a quick pick-me-up, it can also serve as a base for your favorite coffee drinks. -- Ingredients: ['Espresso'] -- Price: 179.0 -- rating: 4.9\",\n",
       " \"Hazelnut Biscotti : These delicious hazelnut biscotti are perfect for a crunchy treat alongside your coffee. Infused with roasted hazelnuts, they provide a delightful nutty flavor that enhances your coffee experience. -- Ingredients: ['Flour', 'Sugar', 'Hazelnuts', 'Eggs', 'Baking Powder'] -- Price: 249.0 -- rating: 4.4\",\n",
       " \"Chocolate Croissant : Flaky and buttery, our chocolate croissant is filled with rich chocolate, making it a delightful pastry for any time. Perfect for breakfast or an afternoon snack, it's a sweet indulgence that never disappoints. -- Ingredients: ['Flour', 'Butter', 'Chocolate', 'Yeast', 'Sugar', 'Salt'] -- Price: 329.0 -- rating: 4.8\",\n",
       " \"Dark chocolate : Rich and indulgent, our dark chocolate drinking chocolate is made with premium cocoa. This luxurious beverage is perfect for a cozy treat on a chilly day, bringing warmth and comfort with every sip. -- Ingredients: ['Cocoa Powder', 'Sugar', 'Milk'] -- Price: 419.0 -- rating: 4.7\",\n",
       " \"Cranberry Scone : This delightful cranberry scone combines sweet and tart flavors, making it perfect for a breakfast treat or afternoon snack. Soft and crumbly, it pairs wonderfully with tea or coffee for a comforting experience. -- Ingredients: ['Flour', 'Butter', 'Cranberries', 'Sugar', 'Baking Powder', 'Eggs'] -- Price: 309.0 -- rating: 4.5\",\n",
       " \"Croissant : Our classic croissant is flaky and buttery, offering a delightful crunch with each bite. Whether enjoyed alone or filled with your favorite spread, it's a timeless pastry that elevates any meal. -- Ingredients: ['Flour', 'Butter', 'Yeast', 'Sugar', 'Salt'] -- Price: 275.0 -- rating: 4.7\",\n",
       " \"Almond Croissant : A delightful twist on the classic croissant, filled with almond cream and topped with slivered almonds for added crunch. This indulgent treat is perfect for those who love a sweet and nutty flavor combination. -- Ingredients: ['Flour', 'Butter', 'Almond Cream', 'Sugar', 'Almonds', 'Yeast'] -- Price: 349.0 -- rating: 4.8\",\n",
       " \"Ginger Biscotti : These spicy ginger biscotti are perfect for dipping and provide a delightful crunch with every bite. The warm flavor of ginger adds a unique twist that pairs beautifully with your favorite hot beverage. -- Ingredients: ['Flour', 'Sugar', 'Ginger', 'Eggs', 'Baking Powder'] -- Price: 219.0 -- rating: 4.7\",\n",
       " \"Oatmeal Scone : Nutty and wholesome, our oatmeal scone is a perfect snack for any time. Made with rolled oats and a hint of sweetness, it's a satisfying option for those who enjoy hearty baked goods. -- Ingredients: ['Flour', 'Oats', 'Butter', 'Sugar', 'Baking Powder', 'Eggs'] -- Price: 275.0 -- rating: 4.3\",\n",
       " \"Ginger Scone : Soft and fragrant, our ginger scone is perfect for a morning treat, infused with the warm spice of ginger. It's an inviting option that pairs beautifully with a cup of tea or coffee. -- Ingredients: ['Flour', 'Butter', 'Ginger', 'Sugar', 'Baking Powder', 'Eggs'] -- Price: 309.0 -- rating: 4.5\",\n",
       " \"Chocolate syrup : Our rich chocolate syrup is perfect for drizzling over desserts or adding to your favorite beverages. Its velvety texture and intense chocolate flavor make it an essential topping for any sweet creation. -- Ingredients: ['Sugar', 'Cocoa Powder', 'Water', 'Vanilla Extract'] -- Price: 129.0 -- rating: 4.8\",\n",
       " \"Hazelnut syrup : Add a nutty flavor to your drinks with our hazelnut syrup, perfect for lattes and desserts. Its smooth sweetness enhances a variety of beverages, making it a must-have for coffee lovers. -- Ingredients: ['Sugar', 'Water', 'Hazelnut Extract', 'Vanilla Extract'] -- Price: 1.5 -- rating: 129.0\",\n",
       " \"Carmel syrup : Sweet and creamy, our caramel syrup is ideal for topping your drinks and desserts with a rich caramel flavor. This versatile syrup elevates everything from coffee to ice cream, providing a luscious touch. -- Ingredients: ['Sugar', 'Water', 'Cream', 'Butter', 'Vanilla Extract'] -- Price: 129.0 -- rating: 4.9\",\n",
       " \"Sugar Free Vanilla syrup : Enjoy the sweet flavor of vanilla without the sugar, making it perfect for your coffee or dessert. This syrup offers a guilt-free way to enhance your beverages, ensuring you never miss out on flavor. -- Ingredients: ['Water', 'Natural Flavors', 'Sucralose'] -- Price: 129.0 -- rating: 4.4\",\n",
       " \"Coffee shop Misty Brews about section: Welcome to Misty Brews, your cozy coffee retreat nestled on the iconic Mall Road in Mussoorie.\\n\\nAt Misty Brews, we believe that coffee is more than just a drink—it’s an experience, a moment of warmth, and a way to connect with others amidst the serene beauty of the hills.\\n\\nOur Story  \\nFounded in 2015, Misty Brews was born out of a love for the misty mornings and tranquil charm of Mussoorie. What started as a small family-owned café has grown into a beloved destination for both locals and travelers alike.\\n\\nOur journey began with a simple vision: to bring people together over ethically sourced, high-quality coffee. Inspired by the fresh mountain air and the slow, peaceful rhythm of life in the hills, we work closely with small coffee farms in India and beyond, ensuring that every cup we serve reflects care, craftsmanship, and sustainability. Our beans are roasted in-house, preserving the distinct flavors of the regions they come from, and each brew tells a story of passion and dedication.\\n\\nDelivery & Locations Served  \\nWhile we invite you to relax and unwind in our warm and welcoming café, we also deliver to nearby locations, including Landour, Barlowganj, and Camel’s Back Road. Whether you're enjoying a quiet moment in your cottage, working remotely, or taking in the scenic views from a hillside bench, Misty Brews ensures your favorite cup of coffee is never out of reach.\\n\\nOur Menu  \\nOur menu is crafted for all kinds of coffee lovers, from rich espresso blends to smooth cold brews, handcrafted teas, and freshly baked treats sourced from local bakeries. We cater to a variety of dietary needs, offering plant-based milk options and gluten-free snacks to ensure there’s something for everyone.\\n\\nCommunity & Sustainability  \\nMisty Brews is more than just a café—it’s a part of the Mussoorie experience. We are deeply committed to sustainability, using eco-friendly packaging, supporting local artisans, and minimizing our carbon footprint. Our café frequently hosts events like poetry readings, live acoustic sessions, and art exhibits, making it a vibrant hub for creativity and culture in the hills.\\n\\nWorking Hours  \\nWe're open every day to make sure you can enjoy your coffee whenever you need it:\\n\\nMonday to Friday: 7 AM – 8 PM  \\nSaturday: 8 AM – 8 PM  \\nSunday: 8 AM – 6 PM  \\n\\nWhether you're stopping by for a quick coffee before exploring the winding trails of Mussoorie or settling in to enjoy the breathtaking views with a warm cup in hand, Misty Brews is your perfect escape.\\n\\nStop by today or order online—we can’t wait to serve you!\"]"
      ]
     },
     "execution_count": 12,
     "metadata": {},
     "output_type": "execute_result"
    }
   ],
   "source": [
    "texts"
   ]
  },
  {
   "cell_type": "code",
   "execution_count": 13,
   "metadata": {},
   "outputs": [],
   "source": [
    "with open(\"products/menu_items_text.txt\") as f:\n",
    "    menu_items_text = f.read()\n",
    "\n",
    "menu_items_text = \"Menu: \" + menu_items_text\n",
    "texts.append(menu_items_text)"
   ]
  },
  {
   "cell_type": "code",
   "execution_count": 14,
   "metadata": {},
   "outputs": [
    {
     "data": {
      "text/plain": [
       "[\"Cappuccino : A rich and creamy cappuccino made with freshly brewed espresso, steamed milk, and a frothy milk cap. This delightful drink offers a perfect balance of bold coffee flavor and smooth milk, making it an ideal companion for relaxing mornings or lively conversations. -- Ingredients: ['Espresso', 'Steamed Milk', 'Milk Foam'] -- Price: 375.0 -- rating: 4.7\",\n",
       " \"Jumbo Savory Scone : Deliciously flaky and buttery, this jumbo savory scone is filled with herbs and cheese, creating a mouthwatering experience. Perfect for a hearty snack or a light lunch, it pairs beautifully with your favorite coffee or tea. -- Ingredients: ['Flour', 'Butter', 'Cheese', 'Herbs', 'Baking Powder', 'Salt'] -- Price: 275.0 -- rating: 4.3\",\n",
       " \"Latte : Smooth and creamy, our latte combines rich espresso with velvety steamed milk, creating a perfect balance of flavor and texture. Enjoy it as a comforting treat any time of day, whether you're starting your morning or taking a midday break. -- Ingredients: ['Espresso', 'Steamed Milk', 'Milk Foam'] -- Price: 399.0 -- rating: 4.8\",\n",
       " \"Chocolate Chip Biscotti : Crunchy and delightful, this chocolate chip biscotti is perfect for dipping in your coffee or enjoying on its own. Each bite offers a satisfying crunch and a burst of rich chocolate, making it a favorite for any biscotti lover. -- Ingredients: ['Flour', 'Sugar', 'Chocolate Chips', 'Eggs', 'Almonds', 'Baking Powder'] -- Price: 219.0 -- rating: 4.6\",\n",
       " \"Espresso shot : A bold shot of rich espresso, our espresso is crafted from the finest beans to deliver a robust flavor in every sip. Perfect for a quick pick-me-up, it can also serve as a base for your favorite coffee drinks. -- Ingredients: ['Espresso'] -- Price: 179.0 -- rating: 4.9\",\n",
       " \"Hazelnut Biscotti : These delicious hazelnut biscotti are perfect for a crunchy treat alongside your coffee. Infused with roasted hazelnuts, they provide a delightful nutty flavor that enhances your coffee experience. -- Ingredients: ['Flour', 'Sugar', 'Hazelnuts', 'Eggs', 'Baking Powder'] -- Price: 249.0 -- rating: 4.4\",\n",
       " \"Chocolate Croissant : Flaky and buttery, our chocolate croissant is filled with rich chocolate, making it a delightful pastry for any time. Perfect for breakfast or an afternoon snack, it's a sweet indulgence that never disappoints. -- Ingredients: ['Flour', 'Butter', 'Chocolate', 'Yeast', 'Sugar', 'Salt'] -- Price: 329.0 -- rating: 4.8\",\n",
       " \"Dark chocolate : Rich and indulgent, our dark chocolate drinking chocolate is made with premium cocoa. This luxurious beverage is perfect for a cozy treat on a chilly day, bringing warmth and comfort with every sip. -- Ingredients: ['Cocoa Powder', 'Sugar', 'Milk'] -- Price: 419.0 -- rating: 4.7\",\n",
       " \"Cranberry Scone : This delightful cranberry scone combines sweet and tart flavors, making it perfect for a breakfast treat or afternoon snack. Soft and crumbly, it pairs wonderfully with tea or coffee for a comforting experience. -- Ingredients: ['Flour', 'Butter', 'Cranberries', 'Sugar', 'Baking Powder', 'Eggs'] -- Price: 309.0 -- rating: 4.5\",\n",
       " \"Croissant : Our classic croissant is flaky and buttery, offering a delightful crunch with each bite. Whether enjoyed alone or filled with your favorite spread, it's a timeless pastry that elevates any meal. -- Ingredients: ['Flour', 'Butter', 'Yeast', 'Sugar', 'Salt'] -- Price: 275.0 -- rating: 4.7\",\n",
       " \"Almond Croissant : A delightful twist on the classic croissant, filled with almond cream and topped with slivered almonds for added crunch. This indulgent treat is perfect for those who love a sweet and nutty flavor combination. -- Ingredients: ['Flour', 'Butter', 'Almond Cream', 'Sugar', 'Almonds', 'Yeast'] -- Price: 349.0 -- rating: 4.8\",\n",
       " \"Ginger Biscotti : These spicy ginger biscotti are perfect for dipping and provide a delightful crunch with every bite. The warm flavor of ginger adds a unique twist that pairs beautifully with your favorite hot beverage. -- Ingredients: ['Flour', 'Sugar', 'Ginger', 'Eggs', 'Baking Powder'] -- Price: 219.0 -- rating: 4.7\",\n",
       " \"Oatmeal Scone : Nutty and wholesome, our oatmeal scone is a perfect snack for any time. Made with rolled oats and a hint of sweetness, it's a satisfying option for those who enjoy hearty baked goods. -- Ingredients: ['Flour', 'Oats', 'Butter', 'Sugar', 'Baking Powder', 'Eggs'] -- Price: 275.0 -- rating: 4.3\",\n",
       " \"Ginger Scone : Soft and fragrant, our ginger scone is perfect for a morning treat, infused with the warm spice of ginger. It's an inviting option that pairs beautifully with a cup of tea or coffee. -- Ingredients: ['Flour', 'Butter', 'Ginger', 'Sugar', 'Baking Powder', 'Eggs'] -- Price: 309.0 -- rating: 4.5\",\n",
       " \"Chocolate syrup : Our rich chocolate syrup is perfect for drizzling over desserts or adding to your favorite beverages. Its velvety texture and intense chocolate flavor make it an essential topping for any sweet creation. -- Ingredients: ['Sugar', 'Cocoa Powder', 'Water', 'Vanilla Extract'] -- Price: 129.0 -- rating: 4.8\",\n",
       " \"Hazelnut syrup : Add a nutty flavor to your drinks with our hazelnut syrup, perfect for lattes and desserts. Its smooth sweetness enhances a variety of beverages, making it a must-have for coffee lovers. -- Ingredients: ['Sugar', 'Water', 'Hazelnut Extract', 'Vanilla Extract'] -- Price: 1.5 -- rating: 129.0\",\n",
       " \"Carmel syrup : Sweet and creamy, our caramel syrup is ideal for topping your drinks and desserts with a rich caramel flavor. This versatile syrup elevates everything from coffee to ice cream, providing a luscious touch. -- Ingredients: ['Sugar', 'Water', 'Cream', 'Butter', 'Vanilla Extract'] -- Price: 129.0 -- rating: 4.9\",\n",
       " \"Sugar Free Vanilla syrup : Enjoy the sweet flavor of vanilla without the sugar, making it perfect for your coffee or dessert. This syrup offers a guilt-free way to enhance your beverages, ensuring you never miss out on flavor. -- Ingredients: ['Water', 'Natural Flavors', 'Sucralose'] -- Price: 129.0 -- rating: 4.4\",\n",
       " \"Coffee shop Misty Brews about section: Welcome to Misty Brews, your cozy coffee retreat nestled on the iconic Mall Road in Mussoorie.\\n\\nAt Misty Brews, we believe that coffee is more than just a drink—it’s an experience, a moment of warmth, and a way to connect with others amidst the serene beauty of the hills.\\n\\nOur Story  \\nFounded in 2015, Misty Brews was born out of a love for the misty mornings and tranquil charm of Mussoorie. What started as a small family-owned café has grown into a beloved destination for both locals and travelers alike.\\n\\nOur journey began with a simple vision: to bring people together over ethically sourced, high-quality coffee. Inspired by the fresh mountain air and the slow, peaceful rhythm of life in the hills, we work closely with small coffee farms in India and beyond, ensuring that every cup we serve reflects care, craftsmanship, and sustainability. Our beans are roasted in-house, preserving the distinct flavors of the regions they come from, and each brew tells a story of passion and dedication.\\n\\nDelivery & Locations Served  \\nWhile we invite you to relax and unwind in our warm and welcoming café, we also deliver to nearby locations, including Landour, Barlowganj, and Camel’s Back Road. Whether you're enjoying a quiet moment in your cottage, working remotely, or taking in the scenic views from a hillside bench, Misty Brews ensures your favorite cup of coffee is never out of reach.\\n\\nOur Menu  \\nOur menu is crafted for all kinds of coffee lovers, from rich espresso blends to smooth cold brews, handcrafted teas, and freshly baked treats sourced from local bakeries. We cater to a variety of dietary needs, offering plant-based milk options and gluten-free snacks to ensure there’s something for everyone.\\n\\nCommunity & Sustainability  \\nMisty Brews is more than just a café—it’s a part of the Mussoorie experience. We are deeply committed to sustainability, using eco-friendly packaging, supporting local artisans, and minimizing our carbon footprint. Our café frequently hosts events like poetry readings, live acoustic sessions, and art exhibits, making it a vibrant hub for creativity and culture in the hills.\\n\\nWorking Hours  \\nWe're open every day to make sure you can enjoy your coffee whenever you need it:\\n\\nMonday to Friday: 7 AM – 8 PM  \\nSaturday: 8 AM – 8 PM  \\nSunday: 8 AM – 6 PM  \\n\\nWhether you're stopping by for a quick coffee before exploring the winding trails of Mussoorie or settling in to enjoy the breathtaking views with a warm cup in hand, Misty Brews is your perfect escape.\\n\\nStop by today or order online—we can’t wait to serve you!\",\n",
       " 'Menu: Menu Items\\n\\nCappuccino - ₹375  \\nJumbo Savory Scone - ₹275  \\nLatte - ₹399  \\nChocolate Chip Biscotti - ₹219  \\nEspresso shot - ₹179  \\nHazelnut Biscotti - ₹249  \\nChocolate Croissant - ₹329  \\nDark chocolate (Drinking Chocolate) - ₹419  \\nCranberry Scone - ₹309  \\nCroissant - ₹275  \\nAlmond Croissant - ₹349  \\nGinger Biscotti - ₹219  \\nOatmeal Scone - ₹275  \\nGinger Scone - ₹309  \\nChocolate syrup - ₹129  \\nHazelnut syrup - ₹129  \\nCaramel syrup - ₹129  \\nSugar Free Vanilla syrup - ₹129  \\nDark chocolate (Packaged Chocolate) - ₹249  \\n']"
      ]
     },
     "execution_count": 14,
     "metadata": {},
     "output_type": "execute_result"
    }
   ],
   "source": [
    "texts"
   ]
  },
  {
   "cell_type": "code",
   "execution_count": null,
   "metadata": {},
   "outputs": [],
   "source": []
  },
  {
   "cell_type": "markdown",
   "metadata": {},
   "source": [
    "# Generate Embeddings"
   ]
  },
  {
   "cell_type": "code",
   "execution_count": 15,
   "metadata": {},
   "outputs": [],
   "source": [
    "output = client.embeddings.create(input = texts,model=model_name)"
   ]
  },
  {
   "cell_type": "code",
   "execution_count": 16,
   "metadata": {},
   "outputs": [],
   "source": [
    "embeddings = output.data"
   ]
  },
  {
   "cell_type": "code",
   "execution_count": 17,
   "metadata": {},
   "outputs": [
    {
     "data": {
      "text/plain": [
       "Embedding(embedding=[-0.016249505802989006, -0.06927019357681274, 0.0036809328012168407, 0.005454646423459053, 0.02955426648259163, -0.043698202818632126, 0.038663145154714584, 0.014708473347127438, -0.02035384066402912, -0.04678026959300041, -0.0462004728615284, -0.031949732452631, -0.005054130684584379, -0.03848005086183548, 0.03176664188504219, -0.015433216467499733, -0.022688277065753937, -0.08617578446865082, -0.07189452648162842, -0.004100521095097065, 0.05849822238087654, -0.07262690365314484, -0.10601086169481277, -0.04061613604426384, 0.035489533096551895, -0.050075944513082504, 0.08111020922660828, -0.019865592941641808, -0.00033257133327424526, -0.13377997279167175, -0.009482692927122116, 0.00437897490337491, -0.023008691146969795, -0.030408700928092003, -0.03466561436653137, -0.0035531490575522184, 0.06829369813203812, -0.08239186555147171, 0.05596543475985527, -0.0006517920992337167, -0.007056710310280323, 0.03643551096320152, -0.06234317645430565, -0.002258147345855832, -0.00870454777032137, 0.04351510852575302, -0.051815327256917953, 0.028425192460417747, 0.06798854470252991, -0.02245941199362278, -0.0213761106133461, 0.006778256502002478, 0.0012826047604903579, 0.028821894899010658, 0.03790025785565376, 0.08135433495044708, 0.0014189709909260273, -0.054348114877939224, 0.04909944534301758, 0.05376831814646721, -0.002017837716266513, -0.00515330582857132, -0.1071704551577568, 0.0748240202665329, -0.0011281201150268316, -0.008849496021866798, -0.06328915804624557, 0.0391819067299366, -0.03338396176695824, 0.11894943565130234, -0.006934648379683495, -0.005733100231736898, 0.05425656586885452, -0.01992662437260151, -0.004840522073209286, 0.02177281305193901, -0.0106956847012043, -0.016127444803714752, 0.011344138532876968, 0.07177246361970901, -0.05315800756216049, 0.06719513982534409, -0.028043748810887337, 0.035855717957019806, 0.0014904916752129793, -0.040097374469041824, 0.08336836099624634, 0.03060705028474331, 0.006850730627775192, 0.013770121149718761, -0.08129330724477768, -0.03130890801548958, -0.034360457211732864, 0.06179389730095863, -0.002780725248157978, 0.06237369030714035, -0.015311154536902905, 0.01016166340559721, 0.06298400461673737, 0.3346940577030182, -0.021879617124795914, -0.0032365506049245596, 0.05657574534416199, -0.06981947273015976, -0.0011586355976760387, -0.020460646599531174, 0.0855654776096344, 0.047909341752529144, 0.027540242299437523, 0.06273987889289856, 0.002734952140599489, 0.041867271065711975, 0.007903515361249447, -0.10778076201677322, -0.04168418049812317, -0.011138158850371838, 0.009986198507249355, -0.05889492481946945, 0.0012368315365165472, 0.028684575110673904, 1.7999380361288786e-05, 0.03631345182657242, 0.011687438003718853, -0.022581472992897034, 0.03524540737271309, 0.03716788440942764, 0.0391819067299366, 0.03478767350316048, 0.03841901943087578, 0.040097374469041824, -0.0498928502202034, -0.016157960519194603, -0.0027883541770279408, -0.005900935735553503, 0.058345645666122437, -0.004398046992719173, 0.029691586270928383, -0.021147245541214943, 0.04165366291999817, 0.03289571404457092, -0.048977386206388474, -0.025129517540335655, -0.018324561417102814, -0.13243728876113892, -0.039426032453775406, 0.1137617975473404, -0.05871183052659035, 0.008307846263051033, -0.03963964059948921, 0.028684575110673904, -0.020552191883325577, -0.001991136698052287, -0.02639591135084629, -0.03429942578077316, 0.009040217846632004, 0.02773859351873398, -0.012580016627907753, 0.019392604008316994, -0.05596543475985527, 0.03025612235069275, -0.058681316673755646, -0.019499408081173897, 0.006408256012946367, -0.003425365313887596, 0.017653219401836395, -0.11821706593036652, -0.07940134406089783, 0.003070622682571411, 0.006663823500275612, -0.01138228364288807, 0.0013007234083488584, 0.02598395198583603, -0.01407527644187212, 0.012343521229922771, 0.02383260987699032, 0.0004765663470607251, 0.003659953363239765, 0.008468052372336388, -0.04034149646759033, 0.008490939624607563, 0.03530643880367279, -0.04458315297961235, -0.019682500511407852, -0.025541476905345917, -0.0392124243080616, -0.02927962690591812, -0.0214371420443058, -0.047909341752529144, -0.009993827901780605, 0.054683785885572433, 0.01739383675158024, 0.024809105321764946, -0.0017222188180312514, 0.08031681180000305, -0.06487596035003662, 0.06228214502334595, 0.07097906619310379, 0.09099723398685455, 0.09307228773832321, 0.02099466696381569, -0.1033865287899971, 0.02920333854854107, 0.03875469043850899, -0.05208996683359146, 0.053646255284547806, 0.046475112438201904, -0.008742691949009895, 0.016997136175632477, -0.001222527353093028, -0.02429034188389778, -0.04497985541820526, 0.12694449722766876, 0.0570029616355896, -0.02885240875184536, 0.0009006842155940831, 9.25001222640276e-05, -0.04568171128630638, 0.03164457902312279, -0.006434957031160593, -0.02818106859922409, 0.029386430978775024, -0.09069208055734634, -0.05743017792701721, -0.26145684719085693, 0.07634979486465454, 0.015517134219408035, -0.02245941199362278, -0.010077745653688908, -0.037930771708488464, -0.009337744675576687, -0.0783638134598732, 0.04491882398724556, 0.020384356379508972, 0.03887675330042839, -0.05389038100838661, -0.03362808749079704, 0.0038449536077678204, 0.014952597208321095, 0.015288268215954304, 0.06701204925775528, -0.052913885563611984, 0.04858068376779556, 0.013640430755913258, 0.03854108229279518, 0.02035384066402912, -0.003761035855859518, 0.02496168203651905, 0.004951140843331814, -0.02203219383955002, 0.08794568479061127, 0.012877542525529861, 0.010970324277877808, -0.07183349877595901, 0.03240746632218361, 0.02812003716826439, -0.05245615169405937, -0.06933122873306274, -0.02995096705853939, -0.015944350510835648, 0.026716323569417, -0.041867271065711975, -0.04241655021905899, 0.026197560131549835, -0.02100992575287819, 0.02073528617620468, -0.0115882633253932, -0.034055303782224655, 0.015990125015378, -0.013953214511275291, 0.003352890955284238, 0.04519346356391907, -0.06481493264436722, 0.0072932057082653046, 0.03274313732981682, 0.009429290890693665, 0.05492790788412094, -0.009070733562111855, 0.03527592495083809, 0.007441968657076359, -0.020506419241428375, -0.01956043764948845, -0.06463184207677841, -0.020460646599531174, -0.028318388387560844, -0.005950523540377617, 0.0178820863366127, 0.018004147335886955, -0.026929933577775955, 0.02239838056266308, -0.011862901970744133, -0.08007268607616425, 0.04766521975398064, -0.01535692811012268, -0.002109384164214134, 0.07427474111318588, 0.014304142445325851, -0.003352890955284238, 0.12206202000379562, 0.025785600766539574, -0.0004002775822300464, 0.004703202284872532, 0.028684575110673904, 0.02595343627035618, 0.046536143869161606, 0.023588484153151512, 0.03628293424844742, 0.07982856035232544, 0.0285014808177948, 0.029691586270928383, 0.02995096705853939, -0.044033873826265335, 0.029416946694254875, -0.019072189927101135, -0.05498893931508064, -0.025388900190591812, 0.052974916994571686, -0.051540687680244446, 0.045376554131507874, -0.02209322527050972, -0.24693146347999573, 0.01989610865712166, -0.00393268559128046, 0.044339027255773544, 0.040433045476675034, -0.06713411211967468, -0.034360457211732864, -0.07012462615966797, -0.034390974789857864, -0.013167439959943295, -0.026441683992743492, 0.040097374469041824, 0.043240468949079514, 0.04497985541820526, -0.022611988708376884, 0.012229088693857193, 0.003629437880590558, 0.07976753264665604, 0.07262690365314484, 0.04491882398724556, -0.028638800606131554, -0.017576931044459343, 0.09673415124416351, -0.014693215489387512, -0.033658601343631744, 0.007171143777668476, 0.028333645313978195, -0.01602064073085785, -0.012526614591479301, 0.06627967953681946, -0.057643789798021317, 0.05608749762177467, 0.13072842359542847, -0.028745604678988457, 0.01855342648923397, -0.002017837716266513, 0.01319032721221447, 0.0463530533015728, -0.022352607920765877, -0.025465188547968864, -0.003717169864103198, -0.015005999244749546, -0.08483310043811798, -0.05855925381183624, -0.031583547592163086, -0.09044795483350754, -0.010115889832377434, -0.08947145938873291, -0.04147057235240936, -0.05450069159269333, -0.002673921175301075, -0.004966398235410452, -0.004340830724686384, 0.0034959325566887856, 0.04424748197197914, 0.027311377227306366, -0.005733100231736898, -0.01015403401106596, 0.01710394024848938, 0.05053367465734482, -0.06206853687763214, 0.03457406535744667, -0.00616413215175271, 0.11797294020652771, -0.028364161029458046], index=0, object='embedding')"
      ]
     },
     "execution_count": 17,
     "metadata": {},
     "output_type": "execute_result"
    }
   ],
   "source": [
    "embeddings[0]"
   ]
  },
  {
   "cell_type": "code",
   "execution_count": null,
   "metadata": {},
   "outputs": [],
   "source": []
  },
  {
   "cell_type": "markdown",
   "metadata": {},
   "source": [
    "# Push data to database"
   ]
  },
  {
   "cell_type": "code",
   "execution_count": 18,
   "metadata": {},
   "outputs": [
    {
     "ename": "PineconeApiException",
     "evalue": "(409)\nReason: Conflict\nHTTP response headers: HTTPHeaderDict({'content-type': 'text/plain; charset=utf-8', 'access-control-allow-origin': '*', 'vary': 'origin,access-control-request-method,access-control-request-headers', 'access-control-expose-headers': '*', 'x-pinecone-api-version': '2025-01', 'X-Cloud-Trace-Context': 'a4896b4389ad4e586edf0501cc807fea', 'Date': 'Sun, 16 Feb 2025 14:15:45 GMT', 'Server': 'Google Frontend', 'Content-Length': '85', 'Via': '1.1 google', 'Alt-Svc': 'h3=\":443\"; ma=2592000,h3-29=\":443\"; ma=2592000'})\nHTTP response body: {\"error\":{\"code\":\"ALREADY_EXISTS\",\"message\":\"Resource  already exists\"},\"status\":409}\n",
     "output_type": "error",
     "traceback": [
      "\u001b[1;31m---------------------------------------------------------------------------\u001b[0m",
      "\u001b[1;31mPineconeApiException\u001b[0m                      Traceback (most recent call last)",
      "Cell \u001b[1;32mIn[18], line 1\u001b[0m\n\u001b[1;32m----> 1\u001b[0m \u001b[43mpc\u001b[49m\u001b[38;5;241;43m.\u001b[39;49m\u001b[43mcreate_index\u001b[49m\u001b[43m(\u001b[49m\n\u001b[0;32m      2\u001b[0m \u001b[43m    \u001b[49m\u001b[43mname\u001b[49m\u001b[43m \u001b[49m\u001b[38;5;241;43m=\u001b[39;49m\u001b[43m \u001b[49m\u001b[43mindex_name\u001b[49m\u001b[43m,\u001b[49m\n\u001b[0;32m      3\u001b[0m \u001b[43m    \u001b[49m\u001b[43mdimension\u001b[49m\u001b[38;5;241;43m=\u001b[39;49m\u001b[38;5;241;43m384\u001b[39;49m\u001b[43m,\u001b[49m\n\u001b[0;32m      4\u001b[0m \u001b[43m    \u001b[49m\u001b[43mmetric\u001b[49m\u001b[38;5;241;43m=\u001b[39;49m\u001b[38;5;124;43m\"\u001b[39;49m\u001b[38;5;124;43mcosine\u001b[39;49m\u001b[38;5;124;43m\"\u001b[39;49m\u001b[43m,\u001b[49m\n\u001b[0;32m      5\u001b[0m \u001b[43m    \u001b[49m\u001b[43mspec\u001b[49m\u001b[38;5;241;43m=\u001b[39;49m\u001b[43m \u001b[49m\u001b[43mServerlessSpec\u001b[49m\u001b[43m(\u001b[49m\n\u001b[0;32m      6\u001b[0m \u001b[43m        \u001b[49m\u001b[43mcloud\u001b[49m\u001b[38;5;241;43m=\u001b[39;49m\u001b[38;5;124;43m\"\u001b[39;49m\u001b[38;5;124;43maws\u001b[39;49m\u001b[38;5;124;43m\"\u001b[39;49m\u001b[43m,\u001b[49m\n\u001b[0;32m      7\u001b[0m \u001b[43m        \u001b[49m\u001b[43mregion\u001b[49m\u001b[38;5;241;43m=\u001b[39;49m\u001b[38;5;124;43m\"\u001b[39;49m\u001b[38;5;124;43mus-east-1\u001b[39;49m\u001b[38;5;124;43m\"\u001b[39;49m\u001b[43m,\u001b[49m\n\u001b[0;32m      8\u001b[0m \u001b[43m    \u001b[49m\u001b[43m)\u001b[49m\n\u001b[0;32m      9\u001b[0m \u001b[43m)\u001b[49m\n",
      "File \u001b[1;32md:\\conda\\envs\\env\\lib\\site-packages\\pinecone\\control\\pinecone.py:143\u001b[0m, in \u001b[0;36mPinecone.create_index\u001b[1;34m(self, name, spec, dimension, metric, timeout, deletion_protection, vector_type, tags)\u001b[0m\n\u001b[0;32m    123\u001b[0m \u001b[38;5;28;01mdef\u001b[39;00m \u001b[38;5;21mcreate_index\u001b[39m(\n\u001b[0;32m    124\u001b[0m     \u001b[38;5;28mself\u001b[39m,\n\u001b[0;32m    125\u001b[0m     name: \u001b[38;5;28mstr\u001b[39m,\n\u001b[1;32m   (...)\u001b[0m\n\u001b[0;32m    132\u001b[0m     tags: Optional[Dict[\u001b[38;5;28mstr\u001b[39m, \u001b[38;5;28mstr\u001b[39m]] \u001b[38;5;241m=\u001b[39m \u001b[38;5;28;01mNone\u001b[39;00m,\n\u001b[0;32m    133\u001b[0m ) \u001b[38;5;241m-\u001b[39m\u001b[38;5;241m>\u001b[39m IndexModel:\n\u001b[0;32m    134\u001b[0m     req \u001b[38;5;241m=\u001b[39m PineconeDBControlRequestFactory\u001b[38;5;241m.\u001b[39mcreate_index_request(\n\u001b[0;32m    135\u001b[0m         name\u001b[38;5;241m=\u001b[39mname,\n\u001b[0;32m    136\u001b[0m         spec\u001b[38;5;241m=\u001b[39mspec,\n\u001b[1;32m   (...)\u001b[0m\n\u001b[0;32m    141\u001b[0m         tags\u001b[38;5;241m=\u001b[39mtags,\n\u001b[0;32m    142\u001b[0m     )\n\u001b[1;32m--> 143\u001b[0m     resp \u001b[38;5;241m=\u001b[39m \u001b[38;5;28;43mself\u001b[39;49m\u001b[38;5;241;43m.\u001b[39;49m\u001b[43mindex_api\u001b[49m\u001b[38;5;241;43m.\u001b[39;49m\u001b[43mcreate_index\u001b[49m\u001b[43m(\u001b[49m\u001b[43mcreate_index_request\u001b[49m\u001b[38;5;241;43m=\u001b[39;49m\u001b[43mreq\u001b[49m\u001b[43m)\u001b[49m\n\u001b[0;32m    145\u001b[0m     \u001b[38;5;28;01mif\u001b[39;00m timeout \u001b[38;5;241m==\u001b[39m \u001b[38;5;241m-\u001b[39m\u001b[38;5;241m1\u001b[39m:\n\u001b[0;32m    146\u001b[0m         \u001b[38;5;28;01mreturn\u001b[39;00m IndexModel(resp)\n",
      "File \u001b[1;32md:\\conda\\envs\\env\\lib\\site-packages\\pinecone\\openapi_support\\endpoint.py:102\u001b[0m, in \u001b[0;36mEndpoint.__call__\u001b[1;34m(self, *args, **kwargs)\u001b[0m\n\u001b[0;32m     91\u001b[0m \u001b[38;5;28;01mdef\u001b[39;00m \u001b[38;5;21m__call__\u001b[39m(\u001b[38;5;28mself\u001b[39m, \u001b[38;5;241m*\u001b[39margs, \u001b[38;5;241m*\u001b[39m\u001b[38;5;241m*\u001b[39mkwargs):\n\u001b[0;32m     92\u001b[0m \u001b[38;5;250m    \u001b[39m\u001b[38;5;124;03m\"\"\"This method is invoked when endpoints are called\u001b[39;00m\n\u001b[0;32m     93\u001b[0m \u001b[38;5;124;03m    Example:\u001b[39;00m\n\u001b[0;32m     94\u001b[0m \n\u001b[1;32m   (...)\u001b[0m\n\u001b[0;32m    100\u001b[0m \n\u001b[0;32m    101\u001b[0m \u001b[38;5;124;03m    \"\"\"\u001b[39;00m\n\u001b[1;32m--> 102\u001b[0m     \u001b[38;5;28;01mreturn\u001b[39;00m \u001b[38;5;28mself\u001b[39m\u001b[38;5;241m.\u001b[39mcallable(\u001b[38;5;28mself\u001b[39m, \u001b[38;5;241m*\u001b[39margs, \u001b[38;5;241m*\u001b[39m\u001b[38;5;241m*\u001b[39mkwargs)\n",
      "File \u001b[1;32md:\\conda\\envs\\env\\lib\\site-packages\\pinecone\\core\\openapi\\db_control\\api\\manage_indexes_api.py:235\u001b[0m, in \u001b[0;36mManageIndexesApi.__init__.<locals>.__create_index\u001b[1;34m(self, create_index_request, **kwargs)\u001b[0m\n\u001b[0;32m    233\u001b[0m kwargs \u001b[38;5;241m=\u001b[39m \u001b[38;5;28mself\u001b[39m\u001b[38;5;241m.\u001b[39m_process_openapi_kwargs(kwargs)\n\u001b[0;32m    234\u001b[0m kwargs[\u001b[38;5;124m\"\u001b[39m\u001b[38;5;124mcreate_index_request\u001b[39m\u001b[38;5;124m\"\u001b[39m] \u001b[38;5;241m=\u001b[39m create_index_request\n\u001b[1;32m--> 235\u001b[0m \u001b[38;5;28;01mreturn\u001b[39;00m \u001b[38;5;28mself\u001b[39m\u001b[38;5;241m.\u001b[39mcall_with_http_info(\u001b[38;5;241m*\u001b[39m\u001b[38;5;241m*\u001b[39mkwargs)\n",
      "File \u001b[1;32md:\\conda\\envs\\env\\lib\\site-packages\\pinecone\\openapi_support\\endpoint.py:134\u001b[0m, in \u001b[0;36mEndpoint.call_with_http_info\u001b[1;34m(self, **kwargs)\u001b[0m\n\u001b[0;32m    124\u001b[0m params \u001b[38;5;241m=\u001b[39m EndpointUtils\u001b[38;5;241m.\u001b[39mgather_params(\n\u001b[0;32m    125\u001b[0m     attribute_map\u001b[38;5;241m=\u001b[39m\u001b[38;5;28mself\u001b[39m\u001b[38;5;241m.\u001b[39mattribute_map,\n\u001b[0;32m    126\u001b[0m     location_map\u001b[38;5;241m=\u001b[39m\u001b[38;5;28mself\u001b[39m\u001b[38;5;241m.\u001b[39mlocation_map,\n\u001b[1;32m   (...)\u001b[0m\n\u001b[0;32m    129\u001b[0m     kwargs\u001b[38;5;241m=\u001b[39mkwargs,\n\u001b[0;32m    130\u001b[0m )\n\u001b[0;32m    132\u001b[0m HeaderUtil\u001b[38;5;241m.\u001b[39mprepare_headers(headers_map\u001b[38;5;241m=\u001b[39m\u001b[38;5;28mself\u001b[39m\u001b[38;5;241m.\u001b[39mheaders_map, params\u001b[38;5;241m=\u001b[39mparams)\n\u001b[1;32m--> 134\u001b[0m \u001b[38;5;28;01mreturn\u001b[39;00m \u001b[38;5;28;43mself\u001b[39;49m\u001b[38;5;241;43m.\u001b[39;49m\u001b[43mapi_client\u001b[49m\u001b[38;5;241;43m.\u001b[39;49m\u001b[43mcall_api\u001b[49m\u001b[43m(\u001b[49m\n\u001b[0;32m    135\u001b[0m \u001b[43m    \u001b[49m\u001b[38;5;28;43mself\u001b[39;49m\u001b[38;5;241;43m.\u001b[39;49m\u001b[43msettings\u001b[49m\u001b[43m[\u001b[49m\u001b[38;5;124;43m\"\u001b[39;49m\u001b[38;5;124;43mendpoint_path\u001b[39;49m\u001b[38;5;124;43m\"\u001b[39;49m\u001b[43m]\u001b[49m\u001b[43m,\u001b[49m\n\u001b[0;32m    136\u001b[0m \u001b[43m    \u001b[49m\u001b[38;5;28;43mself\u001b[39;49m\u001b[38;5;241;43m.\u001b[39;49m\u001b[43msettings\u001b[49m\u001b[43m[\u001b[49m\u001b[38;5;124;43m\"\u001b[39;49m\u001b[38;5;124;43mhttp_method\u001b[39;49m\u001b[38;5;124;43m\"\u001b[39;49m\u001b[43m]\u001b[49m\u001b[43m,\u001b[49m\n\u001b[0;32m    137\u001b[0m \u001b[43m    \u001b[49m\u001b[43mpath_params\u001b[49m\u001b[38;5;241;43m=\u001b[39;49m\u001b[43mparams\u001b[49m\u001b[43m[\u001b[49m\u001b[38;5;124;43m\"\u001b[39;49m\u001b[38;5;124;43mpath\u001b[39;49m\u001b[38;5;124;43m\"\u001b[39;49m\u001b[43m]\u001b[49m\u001b[43m,\u001b[49m\n\u001b[0;32m    138\u001b[0m \u001b[43m    \u001b[49m\u001b[43mquery_params\u001b[49m\u001b[38;5;241;43m=\u001b[39;49m\u001b[43mparams\u001b[49m\u001b[43m[\u001b[49m\u001b[38;5;124;43m\"\u001b[39;49m\u001b[38;5;124;43mquery\u001b[39;49m\u001b[38;5;124;43m\"\u001b[39;49m\u001b[43m]\u001b[49m\u001b[43m,\u001b[49m\n\u001b[0;32m    139\u001b[0m \u001b[43m    \u001b[49m\u001b[43mheader_params\u001b[49m\u001b[38;5;241;43m=\u001b[39;49m\u001b[43mparams\u001b[49m\u001b[43m[\u001b[49m\u001b[38;5;124;43m\"\u001b[39;49m\u001b[38;5;124;43mheader\u001b[39;49m\u001b[38;5;124;43m\"\u001b[39;49m\u001b[43m]\u001b[49m\u001b[43m,\u001b[49m\n\u001b[0;32m    140\u001b[0m \u001b[43m    \u001b[49m\u001b[43mbody\u001b[49m\u001b[38;5;241;43m=\u001b[39;49m\u001b[43mparams\u001b[49m\u001b[43m[\u001b[49m\u001b[38;5;124;43m\"\u001b[39;49m\u001b[38;5;124;43mbody\u001b[39;49m\u001b[38;5;124;43m\"\u001b[39;49m\u001b[43m]\u001b[49m\u001b[43m,\u001b[49m\n\u001b[0;32m    141\u001b[0m \u001b[43m    \u001b[49m\u001b[43mpost_params\u001b[49m\u001b[38;5;241;43m=\u001b[39;49m\u001b[43mparams\u001b[49m\u001b[43m[\u001b[49m\u001b[38;5;124;43m\"\u001b[39;49m\u001b[38;5;124;43mform\u001b[39;49m\u001b[38;5;124;43m\"\u001b[39;49m\u001b[43m]\u001b[49m\u001b[43m,\u001b[49m\n\u001b[0;32m    142\u001b[0m \u001b[43m    \u001b[49m\u001b[43mfiles\u001b[49m\u001b[38;5;241;43m=\u001b[39;49m\u001b[43mparams\u001b[49m\u001b[43m[\u001b[49m\u001b[38;5;124;43m\"\u001b[39;49m\u001b[38;5;124;43mfile\u001b[39;49m\u001b[38;5;124;43m\"\u001b[39;49m\u001b[43m]\u001b[49m\u001b[43m,\u001b[49m\n\u001b[0;32m    143\u001b[0m \u001b[43m    \u001b[49m\u001b[43mresponse_type\u001b[49m\u001b[38;5;241;43m=\u001b[39;49m\u001b[38;5;28;43mself\u001b[39;49m\u001b[38;5;241;43m.\u001b[39;49m\u001b[43msettings\u001b[49m\u001b[43m[\u001b[49m\u001b[38;5;124;43m\"\u001b[39;49m\u001b[38;5;124;43mresponse_type\u001b[39;49m\u001b[38;5;124;43m\"\u001b[39;49m\u001b[43m]\u001b[49m\u001b[43m,\u001b[49m\n\u001b[0;32m    144\u001b[0m \u001b[43m    \u001b[49m\u001b[43mauth_settings\u001b[49m\u001b[38;5;241;43m=\u001b[39;49m\u001b[38;5;28;43mself\u001b[39;49m\u001b[38;5;241;43m.\u001b[39;49m\u001b[43msettings\u001b[49m\u001b[43m[\u001b[49m\u001b[38;5;124;43m\"\u001b[39;49m\u001b[38;5;124;43mauth\u001b[39;49m\u001b[38;5;124;43m\"\u001b[39;49m\u001b[43m]\u001b[49m\u001b[43m,\u001b[49m\n\u001b[0;32m    145\u001b[0m \u001b[43m    \u001b[49m\u001b[43masync_req\u001b[49m\u001b[38;5;241;43m=\u001b[39;49m\u001b[43mkwargs\u001b[49m\u001b[43m[\u001b[49m\u001b[38;5;124;43m\"\u001b[39;49m\u001b[38;5;124;43masync_req\u001b[39;49m\u001b[38;5;124;43m\"\u001b[39;49m\u001b[43m]\u001b[49m\u001b[43m,\u001b[49m\n\u001b[0;32m    146\u001b[0m \u001b[43m    \u001b[49m\u001b[43masync_threadpool_executor\u001b[49m\u001b[38;5;241;43m=\u001b[39;49m\u001b[43mkwargs\u001b[49m\u001b[38;5;241;43m.\u001b[39;49m\u001b[43mget\u001b[49m\u001b[43m(\u001b[49m\u001b[38;5;124;43m\"\u001b[39;49m\u001b[38;5;124;43masync_threadpool_executor\u001b[39;49m\u001b[38;5;124;43m\"\u001b[39;49m\u001b[43m,\u001b[49m\u001b[43m \u001b[49m\u001b[38;5;28;43;01mNone\u001b[39;49;00m\u001b[43m)\u001b[49m\u001b[43m,\u001b[49m\n\u001b[0;32m    147\u001b[0m \u001b[43m    \u001b[49m\u001b[43m_check_type\u001b[49m\u001b[38;5;241;43m=\u001b[39;49m\u001b[43mkwargs\u001b[49m\u001b[43m[\u001b[49m\u001b[38;5;124;43m\"\u001b[39;49m\u001b[38;5;124;43m_check_return_type\u001b[39;49m\u001b[38;5;124;43m\"\u001b[39;49m\u001b[43m]\u001b[49m\u001b[43m,\u001b[49m\n\u001b[0;32m    148\u001b[0m \u001b[43m    \u001b[49m\u001b[43m_return_http_data_only\u001b[49m\u001b[38;5;241;43m=\u001b[39;49m\u001b[43mkwargs\u001b[49m\u001b[43m[\u001b[49m\u001b[38;5;124;43m\"\u001b[39;49m\u001b[38;5;124;43m_return_http_data_only\u001b[39;49m\u001b[38;5;124;43m\"\u001b[39;49m\u001b[43m]\u001b[49m\u001b[43m,\u001b[49m\n\u001b[0;32m    149\u001b[0m \u001b[43m    \u001b[49m\u001b[43m_preload_content\u001b[49m\u001b[38;5;241;43m=\u001b[39;49m\u001b[43mkwargs\u001b[49m\u001b[43m[\u001b[49m\u001b[38;5;124;43m\"\u001b[39;49m\u001b[38;5;124;43m_preload_content\u001b[39;49m\u001b[38;5;124;43m\"\u001b[39;49m\u001b[43m]\u001b[49m\u001b[43m,\u001b[49m\n\u001b[0;32m    150\u001b[0m \u001b[43m    \u001b[49m\u001b[43m_request_timeout\u001b[49m\u001b[38;5;241;43m=\u001b[39;49m\u001b[43mkwargs\u001b[49m\u001b[43m[\u001b[49m\u001b[38;5;124;43m\"\u001b[39;49m\u001b[38;5;124;43m_request_timeout\u001b[39;49m\u001b[38;5;124;43m\"\u001b[39;49m\u001b[43m]\u001b[49m\u001b[43m,\u001b[49m\n\u001b[0;32m    151\u001b[0m \u001b[43m    \u001b[49m\u001b[43m_host\u001b[49m\u001b[38;5;241;43m=\u001b[39;49m\u001b[43m_host\u001b[49m\u001b[43m,\u001b[49m\n\u001b[0;32m    152\u001b[0m \u001b[43m    \u001b[49m\u001b[43mcollection_formats\u001b[49m\u001b[38;5;241;43m=\u001b[39;49m\u001b[43mparams\u001b[49m\u001b[43m[\u001b[49m\u001b[38;5;124;43m\"\u001b[39;49m\u001b[38;5;124;43mcollection_format\u001b[39;49m\u001b[38;5;124;43m\"\u001b[39;49m\u001b[43m]\u001b[49m\u001b[43m,\u001b[49m\n\u001b[0;32m    153\u001b[0m \u001b[43m\u001b[49m\u001b[43m)\u001b[49m\n",
      "File \u001b[1;32md:\\conda\\envs\\env\\lib\\site-packages\\pinecone\\openapi_support\\api_client.py:300\u001b[0m, in \u001b[0;36mApiClient.call_api\u001b[1;34m(self, resource_path, method, path_params, query_params, header_params, body, post_params, files, response_type, auth_settings, async_req, async_threadpool_executor, _return_http_data_only, collection_formats, _preload_content, _request_timeout, _host, _check_type)\u001b[0m\n\u001b[0;32m    279\u001b[0m     \u001b[38;5;28;01mreturn\u001b[39;00m \u001b[38;5;28mself\u001b[39m\u001b[38;5;241m.\u001b[39mthreadpool_executor\u001b[38;5;241m.\u001b[39msubmit(\n\u001b[0;32m    280\u001b[0m         \u001b[38;5;28mself\u001b[39m\u001b[38;5;241m.\u001b[39m__call_api,\n\u001b[0;32m    281\u001b[0m         resource_path,\n\u001b[1;32m   (...)\u001b[0m\n\u001b[0;32m    296\u001b[0m         _check_type,\n\u001b[0;32m    297\u001b[0m     )\n\u001b[0;32m    299\u001b[0m \u001b[38;5;28;01mif\u001b[39;00m \u001b[38;5;129;01mnot\u001b[39;00m async_req:\n\u001b[1;32m--> 300\u001b[0m     \u001b[38;5;28;01mreturn\u001b[39;00m \u001b[38;5;28;43mself\u001b[39;49m\u001b[38;5;241;43m.\u001b[39;49m\u001b[43m__call_api\u001b[49m\u001b[43m(\u001b[49m\n\u001b[0;32m    301\u001b[0m \u001b[43m        \u001b[49m\u001b[43mresource_path\u001b[49m\u001b[43m,\u001b[49m\n\u001b[0;32m    302\u001b[0m \u001b[43m        \u001b[49m\u001b[43mmethod\u001b[49m\u001b[43m,\u001b[49m\n\u001b[0;32m    303\u001b[0m \u001b[43m        \u001b[49m\u001b[43mpath_params\u001b[49m\u001b[43m,\u001b[49m\n\u001b[0;32m    304\u001b[0m \u001b[43m        \u001b[49m\u001b[43mquery_params\u001b[49m\u001b[43m,\u001b[49m\n\u001b[0;32m    305\u001b[0m \u001b[43m        \u001b[49m\u001b[43mheader_params\u001b[49m\u001b[43m,\u001b[49m\n\u001b[0;32m    306\u001b[0m \u001b[43m        \u001b[49m\u001b[43mbody\u001b[49m\u001b[43m,\u001b[49m\n\u001b[0;32m    307\u001b[0m \u001b[43m        \u001b[49m\u001b[43mpost_params\u001b[49m\u001b[43m,\u001b[49m\n\u001b[0;32m    308\u001b[0m \u001b[43m        \u001b[49m\u001b[43mfiles\u001b[49m\u001b[43m,\u001b[49m\n\u001b[0;32m    309\u001b[0m \u001b[43m        \u001b[49m\u001b[43mresponse_type\u001b[49m\u001b[43m,\u001b[49m\n\u001b[0;32m    310\u001b[0m \u001b[43m        \u001b[49m\u001b[43mauth_settings\u001b[49m\u001b[43m,\u001b[49m\n\u001b[0;32m    311\u001b[0m \u001b[43m        \u001b[49m\u001b[43m_return_http_data_only\u001b[49m\u001b[43m,\u001b[49m\n\u001b[0;32m    312\u001b[0m \u001b[43m        \u001b[49m\u001b[43mcollection_formats\u001b[49m\u001b[43m,\u001b[49m\n\u001b[0;32m    313\u001b[0m \u001b[43m        \u001b[49m\u001b[43m_preload_content\u001b[49m\u001b[43m,\u001b[49m\n\u001b[0;32m    314\u001b[0m \u001b[43m        \u001b[49m\u001b[43m_request_timeout\u001b[49m\u001b[43m,\u001b[49m\n\u001b[0;32m    315\u001b[0m \u001b[43m        \u001b[49m\u001b[43m_host\u001b[49m\u001b[43m,\u001b[49m\n\u001b[0;32m    316\u001b[0m \u001b[43m        \u001b[49m\u001b[43m_check_type\u001b[49m\u001b[43m,\u001b[49m\n\u001b[0;32m    317\u001b[0m \u001b[43m    \u001b[49m\u001b[43m)\u001b[49m\n\u001b[0;32m    319\u001b[0m \u001b[38;5;28;01mreturn\u001b[39;00m \u001b[38;5;28mself\u001b[39m\u001b[38;5;241m.\u001b[39mpool\u001b[38;5;241m.\u001b[39mapply_async(\n\u001b[0;32m    320\u001b[0m     \u001b[38;5;28mself\u001b[39m\u001b[38;5;241m.\u001b[39m__call_api,\n\u001b[0;32m    321\u001b[0m     (\n\u001b[1;32m   (...)\u001b[0m\n\u001b[0;32m    338\u001b[0m     ),\n\u001b[0;32m    339\u001b[0m )\n",
      "File \u001b[1;32md:\\conda\\envs\\env\\lib\\site-packages\\pinecone\\openapi_support\\api_client.py:178\u001b[0m, in \u001b[0;36mApiClient.__call_api\u001b[1;34m(self, resource_path, method, path_params, query_params, header_params, body, post_params, files, response_type, auth_settings, _return_http_data_only, collection_formats, _preload_content, _request_timeout, _host, _check_type)\u001b[0m\n\u001b[0;32m    176\u001b[0m \u001b[38;5;28;01mexcept\u001b[39;00m PineconeApiException \u001b[38;5;28;01mas\u001b[39;00m e:\n\u001b[0;32m    177\u001b[0m     e\u001b[38;5;241m.\u001b[39mbody \u001b[38;5;241m=\u001b[39m e\u001b[38;5;241m.\u001b[39mbody\u001b[38;5;241m.\u001b[39mdecode(\u001b[38;5;124m\"\u001b[39m\u001b[38;5;124mutf-8\u001b[39m\u001b[38;5;124m\"\u001b[39m)\n\u001b[1;32m--> 178\u001b[0m     \u001b[38;5;28;01mraise\u001b[39;00m e\n\u001b[0;32m    180\u001b[0m \u001b[38;5;28mself\u001b[39m\u001b[38;5;241m.\u001b[39mlast_response \u001b[38;5;241m=\u001b[39m response_data\n\u001b[0;32m    182\u001b[0m return_data \u001b[38;5;241m=\u001b[39m response_data\n",
      "File \u001b[1;32md:\\conda\\envs\\env\\lib\\site-packages\\pinecone\\openapi_support\\api_client.py:166\u001b[0m, in \u001b[0;36mApiClient.__call_api\u001b[1;34m(self, resource_path, method, path_params, query_params, header_params, body, post_params, files, response_type, auth_settings, _return_http_data_only, collection_formats, _preload_content, _request_timeout, _host, _check_type)\u001b[0m\n\u001b[0;32m    157\u001b[0m url \u001b[38;5;241m=\u001b[39m build_request_url(\n\u001b[0;32m    158\u001b[0m     config\u001b[38;5;241m=\u001b[39mconfig,\n\u001b[0;32m    159\u001b[0m     processed_path_params\u001b[38;5;241m=\u001b[39mpath_params_tuple,\n\u001b[0;32m    160\u001b[0m     resource_path\u001b[38;5;241m=\u001b[39mresource_path,\n\u001b[0;32m    161\u001b[0m     _host\u001b[38;5;241m=\u001b[39m_host,\n\u001b[0;32m    162\u001b[0m )\n\u001b[0;32m    164\u001b[0m \u001b[38;5;28;01mtry\u001b[39;00m:\n\u001b[0;32m    165\u001b[0m     \u001b[38;5;66;03m# perform request and return response\u001b[39;00m\n\u001b[1;32m--> 166\u001b[0m     response_data \u001b[38;5;241m=\u001b[39m \u001b[38;5;28;43mself\u001b[39;49m\u001b[38;5;241;43m.\u001b[39;49m\u001b[43mrequest\u001b[49m\u001b[43m(\u001b[49m\n\u001b[0;32m    167\u001b[0m \u001b[43m        \u001b[49m\u001b[43mmethod\u001b[49m\u001b[43m,\u001b[49m\n\u001b[0;32m    168\u001b[0m \u001b[43m        \u001b[49m\u001b[43murl\u001b[49m\u001b[43m,\u001b[49m\n\u001b[0;32m    169\u001b[0m \u001b[43m        \u001b[49m\u001b[43mquery_params\u001b[49m\u001b[38;5;241;43m=\u001b[39;49m\u001b[43mprocessed_query_params\u001b[49m\u001b[43m,\u001b[49m\n\u001b[0;32m    170\u001b[0m \u001b[43m        \u001b[49m\u001b[43mheaders\u001b[49m\u001b[38;5;241;43m=\u001b[39;49m\u001b[43mheaders_tuple\u001b[49m\u001b[43m,\u001b[49m\n\u001b[0;32m    171\u001b[0m \u001b[43m        \u001b[49m\u001b[43mpost_params\u001b[49m\u001b[38;5;241;43m=\u001b[39;49m\u001b[43mprocessed_post_params\u001b[49m\u001b[43m,\u001b[49m\n\u001b[0;32m    172\u001b[0m \u001b[43m        \u001b[49m\u001b[43mbody\u001b[49m\u001b[38;5;241;43m=\u001b[39;49m\u001b[43mbody\u001b[49m\u001b[43m,\u001b[49m\n\u001b[0;32m    173\u001b[0m \u001b[43m        \u001b[49m\u001b[43m_preload_content\u001b[49m\u001b[38;5;241;43m=\u001b[39;49m\u001b[43m_preload_content\u001b[49m\u001b[43m,\u001b[49m\n\u001b[0;32m    174\u001b[0m \u001b[43m        \u001b[49m\u001b[43m_request_timeout\u001b[49m\u001b[38;5;241;43m=\u001b[39;49m\u001b[43m_request_timeout\u001b[49m\u001b[43m,\u001b[49m\n\u001b[0;32m    175\u001b[0m \u001b[43m    \u001b[49m\u001b[43m)\u001b[49m\n\u001b[0;32m    176\u001b[0m \u001b[38;5;28;01mexcept\u001b[39;00m PineconeApiException \u001b[38;5;28;01mas\u001b[39;00m e:\n\u001b[0;32m    177\u001b[0m     e\u001b[38;5;241m.\u001b[39mbody \u001b[38;5;241m=\u001b[39m e\u001b[38;5;241m.\u001b[39mbody\u001b[38;5;241m.\u001b[39mdecode(\u001b[38;5;124m\"\u001b[39m\u001b[38;5;124mutf-8\u001b[39m\u001b[38;5;124m\"\u001b[39m)\n",
      "File \u001b[1;32md:\\conda\\envs\\env\\lib\\site-packages\\pinecone\\openapi_support\\api_client.py:380\u001b[0m, in \u001b[0;36mApiClient.request\u001b[1;34m(self, method, url, query_params, headers, post_params, body, _preload_content, _request_timeout)\u001b[0m\n\u001b[0;32m    370\u001b[0m     \u001b[38;5;28;01mreturn\u001b[39;00m \u001b[38;5;28mself\u001b[39m\u001b[38;5;241m.\u001b[39mrest_client\u001b[38;5;241m.\u001b[39mOPTIONS(\n\u001b[0;32m    371\u001b[0m         url,\n\u001b[0;32m    372\u001b[0m         query_params\u001b[38;5;241m=\u001b[39mquery_params,\n\u001b[1;32m   (...)\u001b[0m\n\u001b[0;32m    377\u001b[0m         body\u001b[38;5;241m=\u001b[39mbody,\n\u001b[0;32m    378\u001b[0m     )\n\u001b[0;32m    379\u001b[0m \u001b[38;5;28;01melif\u001b[39;00m method \u001b[38;5;241m==\u001b[39m \u001b[38;5;124m\"\u001b[39m\u001b[38;5;124mPOST\u001b[39m\u001b[38;5;124m\"\u001b[39m:\n\u001b[1;32m--> 380\u001b[0m     \u001b[38;5;28;01mreturn\u001b[39;00m \u001b[38;5;28;43mself\u001b[39;49m\u001b[38;5;241;43m.\u001b[39;49m\u001b[43mrest_client\u001b[49m\u001b[38;5;241;43m.\u001b[39;49m\u001b[43mPOST\u001b[49m\u001b[43m(\u001b[49m\n\u001b[0;32m    381\u001b[0m \u001b[43m        \u001b[49m\u001b[43murl\u001b[49m\u001b[43m,\u001b[49m\n\u001b[0;32m    382\u001b[0m \u001b[43m        \u001b[49m\u001b[43mquery_params\u001b[49m\u001b[38;5;241;43m=\u001b[39;49m\u001b[43mquery_params\u001b[49m\u001b[43m,\u001b[49m\n\u001b[0;32m    383\u001b[0m \u001b[43m        \u001b[49m\u001b[43mheaders\u001b[49m\u001b[38;5;241;43m=\u001b[39;49m\u001b[43mheaders\u001b[49m\u001b[43m,\u001b[49m\n\u001b[0;32m    384\u001b[0m \u001b[43m        \u001b[49m\u001b[43mpost_params\u001b[49m\u001b[38;5;241;43m=\u001b[39;49m\u001b[43mpost_params\u001b[49m\u001b[43m,\u001b[49m\n\u001b[0;32m    385\u001b[0m \u001b[43m        \u001b[49m\u001b[43m_preload_content\u001b[49m\u001b[38;5;241;43m=\u001b[39;49m\u001b[43m_preload_content\u001b[49m\u001b[43m,\u001b[49m\n\u001b[0;32m    386\u001b[0m \u001b[43m        \u001b[49m\u001b[43m_request_timeout\u001b[49m\u001b[38;5;241;43m=\u001b[39;49m\u001b[43m_request_timeout\u001b[49m\u001b[43m,\u001b[49m\n\u001b[0;32m    387\u001b[0m \u001b[43m        \u001b[49m\u001b[43mbody\u001b[49m\u001b[38;5;241;43m=\u001b[39;49m\u001b[43mbody\u001b[49m\u001b[43m,\u001b[49m\n\u001b[0;32m    388\u001b[0m \u001b[43m    \u001b[49m\u001b[43m)\u001b[49m\n\u001b[0;32m    389\u001b[0m \u001b[38;5;28;01melif\u001b[39;00m method \u001b[38;5;241m==\u001b[39m \u001b[38;5;124m\"\u001b[39m\u001b[38;5;124mPUT\u001b[39m\u001b[38;5;124m\"\u001b[39m:\n\u001b[0;32m    390\u001b[0m     \u001b[38;5;28;01mreturn\u001b[39;00m \u001b[38;5;28mself\u001b[39m\u001b[38;5;241m.\u001b[39mrest_client\u001b[38;5;241m.\u001b[39mPUT(\n\u001b[0;32m    391\u001b[0m         url,\n\u001b[0;32m    392\u001b[0m         query_params\u001b[38;5;241m=\u001b[39mquery_params,\n\u001b[1;32m   (...)\u001b[0m\n\u001b[0;32m    397\u001b[0m         body\u001b[38;5;241m=\u001b[39mbody,\n\u001b[0;32m    398\u001b[0m     )\n",
      "File \u001b[1;32md:\\conda\\envs\\env\\lib\\site-packages\\pinecone\\openapi_support\\rest_utils.py:146\u001b[0m, in \u001b[0;36mRestClientInterface.POST\u001b[1;34m(self, url, headers, query_params, post_params, body, _preload_content, _request_timeout)\u001b[0m\n\u001b[0;32m    136\u001b[0m \u001b[38;5;28;01mdef\u001b[39;00m \u001b[38;5;21mPOST\u001b[39m(\n\u001b[0;32m    137\u001b[0m     \u001b[38;5;28mself\u001b[39m,\n\u001b[0;32m    138\u001b[0m     url,\n\u001b[1;32m   (...)\u001b[0m\n\u001b[0;32m    144\u001b[0m     _request_timeout\u001b[38;5;241m=\u001b[39m\u001b[38;5;28;01mNone\u001b[39;00m,\n\u001b[0;32m    145\u001b[0m ):\n\u001b[1;32m--> 146\u001b[0m     \u001b[38;5;28;01mreturn\u001b[39;00m \u001b[38;5;28;43mself\u001b[39;49m\u001b[38;5;241;43m.\u001b[39;49m\u001b[43mrequest\u001b[49m\u001b[43m(\u001b[49m\n\u001b[0;32m    147\u001b[0m \u001b[43m        \u001b[49m\u001b[38;5;124;43m\"\u001b[39;49m\u001b[38;5;124;43mPOST\u001b[39;49m\u001b[38;5;124;43m\"\u001b[39;49m\u001b[43m,\u001b[49m\n\u001b[0;32m    148\u001b[0m \u001b[43m        \u001b[49m\u001b[43murl\u001b[49m\u001b[43m,\u001b[49m\n\u001b[0;32m    149\u001b[0m \u001b[43m        \u001b[49m\u001b[43mheaders\u001b[49m\u001b[38;5;241;43m=\u001b[39;49m\u001b[43mheaders\u001b[49m\u001b[43m,\u001b[49m\n\u001b[0;32m    150\u001b[0m \u001b[43m        \u001b[49m\u001b[43mquery_params\u001b[49m\u001b[38;5;241;43m=\u001b[39;49m\u001b[43mquery_params\u001b[49m\u001b[43m,\u001b[49m\n\u001b[0;32m    151\u001b[0m \u001b[43m        \u001b[49m\u001b[43mpost_params\u001b[49m\u001b[38;5;241;43m=\u001b[39;49m\u001b[43mpost_params\u001b[49m\u001b[43m,\u001b[49m\n\u001b[0;32m    152\u001b[0m \u001b[43m        \u001b[49m\u001b[43m_preload_content\u001b[49m\u001b[38;5;241;43m=\u001b[39;49m\u001b[43m_preload_content\u001b[49m\u001b[43m,\u001b[49m\n\u001b[0;32m    153\u001b[0m \u001b[43m        \u001b[49m\u001b[43m_request_timeout\u001b[49m\u001b[38;5;241;43m=\u001b[39;49m\u001b[43m_request_timeout\u001b[49m\u001b[43m,\u001b[49m\n\u001b[0;32m    154\u001b[0m \u001b[43m        \u001b[49m\u001b[43mbody\u001b[49m\u001b[38;5;241;43m=\u001b[39;49m\u001b[43mbody\u001b[49m\u001b[43m,\u001b[49m\n\u001b[0;32m    155\u001b[0m \u001b[43m    \u001b[49m\u001b[43m)\u001b[49m\n",
      "File \u001b[1;32md:\\conda\\envs\\env\\lib\\site-packages\\pinecone\\openapi_support\\rest_urllib3.py:260\u001b[0m, in \u001b[0;36mUrllib3RestClient.request\u001b[1;34m(self, method, url, query_params, headers, body, post_params, _preload_content, _request_timeout)\u001b[0m\n\u001b[0;32m    257\u001b[0m     \u001b[38;5;66;03m# log response body\u001b[39;00m\n\u001b[0;32m    258\u001b[0m     logger\u001b[38;5;241m.\u001b[39mdebug(\u001b[38;5;124m\"\u001b[39m\u001b[38;5;124mresponse body: \u001b[39m\u001b[38;5;132;01m%s\u001b[39;00m\u001b[38;5;124m\"\u001b[39m, r\u001b[38;5;241m.\u001b[39mdata)\n\u001b[1;32m--> 260\u001b[0m \u001b[38;5;28;01mreturn\u001b[39;00m \u001b[43mraise_exceptions_or_return\u001b[49m\u001b[43m(\u001b[49m\u001b[43mr\u001b[49m\u001b[43m)\u001b[49m\n",
      "File \u001b[1;32md:\\conda\\envs\\env\\lib\\site-packages\\pinecone\\openapi_support\\rest_utils.py:49\u001b[0m, in \u001b[0;36mraise_exceptions_or_return\u001b[1;34m(r)\u001b[0m\n\u001b[0;32m     46\u001b[0m     \u001b[38;5;28;01mif\u001b[39;00m \u001b[38;5;241m500\u001b[39m \u001b[38;5;241m<\u001b[39m\u001b[38;5;241m=\u001b[39m r\u001b[38;5;241m.\u001b[39mstatus \u001b[38;5;241m<\u001b[39m\u001b[38;5;241m=\u001b[39m \u001b[38;5;241m599\u001b[39m:\n\u001b[0;32m     47\u001b[0m         \u001b[38;5;28;01mraise\u001b[39;00m ServiceException(http_resp\u001b[38;5;241m=\u001b[39mr)\n\u001b[1;32m---> 49\u001b[0m     \u001b[38;5;28;01mraise\u001b[39;00m PineconeApiException(http_resp\u001b[38;5;241m=\u001b[39mr)\n\u001b[0;32m     51\u001b[0m \u001b[38;5;28;01mreturn\u001b[39;00m r\n",
      "\u001b[1;31mPineconeApiException\u001b[0m: (409)\nReason: Conflict\nHTTP response headers: HTTPHeaderDict({'content-type': 'text/plain; charset=utf-8', 'access-control-allow-origin': '*', 'vary': 'origin,access-control-request-method,access-control-request-headers', 'access-control-expose-headers': '*', 'x-pinecone-api-version': '2025-01', 'X-Cloud-Trace-Context': 'a4896b4389ad4e586edf0501cc807fea', 'Date': 'Sun, 16 Feb 2025 14:15:45 GMT', 'Server': 'Google Frontend', 'Content-Length': '85', 'Via': '1.1 google', 'Alt-Svc': 'h3=\":443\"; ma=2592000,h3-29=\":443\"; ma=2592000'})\nHTTP response body: {\"error\":{\"code\":\"ALREADY_EXISTS\",\"message\":\"Resource  already exists\"},\"status\":409}\n"
     ]
    }
   ],
   "source": [
    "pc.create_index(\n",
    "    name = index_name,\n",
    "    dimension=384,\n",
    "    metric=\"cosine\",\n",
    "    spec= ServerlessSpec(\n",
    "        cloud=\"aws\",\n",
    "        region=\"us-east-1\",\n",
    "    )\n",
    ")"
   ]
  },
  {
   "cell_type": "code",
   "execution_count": 19,
   "metadata": {},
   "outputs": [
    {
     "data": {
      "text/plain": [
       "{'upserted_count': 20}"
      ]
     },
     "execution_count": 19,
     "metadata": {},
     "output_type": "execute_result"
    }
   ],
   "source": [
    "#wait for the index to be ready\n",
    "while not pc.describe_index(index_name).status.ready:\n",
    "    time.sleep(1)\n",
    "\n",
    "index = pc.Index(index_name)\n",
    "\n",
    "vectors = []\n",
    "for text,e in zip(texts, embeddings):\n",
    "    entry_id = text.split(\":\")[0]\n",
    "    vectors.append(\n",
    "        {\n",
    "            \"id\": entry_id,\n",
    "            \"values\": e.embedding,\n",
    "            \"metadata\": {'text': text}\n",
    "        }\n",
    "    )\n",
    "\n",
    "index.upsert(vectors=vectors, namespace='ns1')"
   ]
  },
  {
   "cell_type": "code",
   "execution_count": null,
   "metadata": {},
   "outputs": [],
   "source": []
  },
  {
   "cell_type": "markdown",
   "metadata": {},
   "source": [
    "# Get Closest Documents"
   ]
  },
  {
   "cell_type": "code",
   "execution_count": 20,
   "metadata": {},
   "outputs": [],
   "source": [
    "output = client.embeddings.create(input = [\"Is Cappuccino lactose-free?\"],model=model_name)\n",
    "embeding = output.data[0].embedding"
   ]
  },
  {
   "cell_type": "code",
   "execution_count": 21,
   "metadata": {},
   "outputs": [],
   "source": [
    "results = index.query(\n",
    "    namespace=\"ns1\",\n",
    "    vector=embeding,\n",
    "    top_k=3,\n",
    "    include_values=False,\n",
    "    include_metadata=True\n",
    ")"
   ]
  },
  {
   "cell_type": "code",
   "execution_count": 22,
   "metadata": {},
   "outputs": [
    {
     "data": {
      "text/plain": [
       "{'matches': [{'id': 'Cappuccino ',\n",
       "              'metadata': {'text': 'Cappuccino : A rich and creamy cappuccino '\n",
       "                                   'made with freshly brewed espresso, steamed '\n",
       "                                   'milk, and a frothy milk cap. This '\n",
       "                                   'delightful drink offers a perfect balance '\n",
       "                                   'of bold coffee flavor and smooth milk, '\n",
       "                                   'making it an ideal companion for relaxing '\n",
       "                                   'mornings or lively conversations. -- '\n",
       "                                   \"Ingredients: ['Espresso', 'Steamed Milk', \"\n",
       "                                   \"'Milk Foam'] -- Price: 375.0 -- rating: \"\n",
       "                                   '4.7'},\n",
       "              'score': 0.732134283,\n",
       "              'values': []},\n",
       "             {'id': 'Menu',\n",
       "              'metadata': {'text': 'Menu: Menu Items\\n'\n",
       "                                   '\\n'\n",
       "                                   'Cappuccino - ₹375  \\n'\n",
       "                                   'Jumbo Savory Scone - ₹275  \\n'\n",
       "                                   'Latte - ₹399  \\n'\n",
       "                                   'Chocolate Chip Biscotti - ₹219  \\n'\n",
       "                                   'Espresso shot - ₹179  \\n'\n",
       "                                   'Hazelnut Biscotti - ₹249  \\n'\n",
       "                                   'Chocolate Croissant - ₹329  \\n'\n",
       "                                   'Dark chocolate (Drinking Chocolate) - '\n",
       "                                   '₹419  \\n'\n",
       "                                   'Cranberry Scone - ₹309  \\n'\n",
       "                                   'Croissant - ₹275  \\n'\n",
       "                                   'Almond Croissant - ₹349  \\n'\n",
       "                                   'Ginger Biscotti - ₹219  \\n'\n",
       "                                   'Oatmeal Scone - ₹275  \\n'\n",
       "                                   'Ginger Scone - ₹309  \\n'\n",
       "                                   'Chocolate syrup - ₹129  \\n'\n",
       "                                   'Hazelnut syrup - ₹129  \\n'\n",
       "                                   'Caramel syrup - ₹129  \\n'\n",
       "                                   'Sugar Free Vanilla syrup - ₹129  \\n'\n",
       "                                   'Dark chocolate (Packaged Chocolate) - '\n",
       "                                   '₹249  \\n'},\n",
       "              'score': 0.630139709,\n",
       "              'values': []},\n",
       "             {'id': 'Sugar Free Vanilla syrup ',\n",
       "              'metadata': {'text': 'Sugar Free Vanilla syrup : Enjoy the sweet '\n",
       "                                   'flavor of vanilla without the sugar, '\n",
       "                                   'making it perfect for your coffee or '\n",
       "                                   'dessert. This syrup offers a guilt-free '\n",
       "                                   'way to enhance your beverages, ensuring '\n",
       "                                   'you never miss out on flavor. -- '\n",
       "                                   \"Ingredients: ['Water', 'Natural Flavors', \"\n",
       "                                   \"'Sucralose'] -- Price: 129.0 -- rating: \"\n",
       "                                   '4.4'},\n",
       "              'score': 0.621603072,\n",
       "              'values': []}],\n",
       " 'namespace': 'ns1',\n",
       " 'usage': {'read_units': 6}}"
      ]
     },
     "execution_count": 22,
     "metadata": {},
     "output_type": "execute_result"
    }
   ],
   "source": [
    "results"
   ]
  },
  {
   "cell_type": "code",
   "execution_count": null,
   "metadata": {},
   "outputs": [],
   "source": []
  }
 ],
 "metadata": {
  "kernelspec": {
   "display_name": "env",
   "language": "python",
   "name": "python3"
  },
  "language_info": {
   "codemirror_mode": {
    "name": "ipython",
    "version": 3
   },
   "file_extension": ".py",
   "mimetype": "text/x-python",
   "name": "python",
   "nbconvert_exporter": "python",
   "pygments_lexer": "ipython3",
   "version": "3.9.19"
  }
 },
 "nbformat": 4,
 "nbformat_minor": 2
}
